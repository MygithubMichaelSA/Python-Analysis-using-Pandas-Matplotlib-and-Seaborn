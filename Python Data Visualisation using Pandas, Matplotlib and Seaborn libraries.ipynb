{
 "cells": [
  {
   "cell_type": "markdown",
   "id": "1d59ce7d",
   "metadata": {},
   "source": [
    "# Python Data Visualisation using Pandas, Matplotlib and Seaborn libraries"
   ]
  },
  {
   "cell_type": "code",
   "execution_count": 2,
   "id": "a163483f",
   "metadata": {},
   "outputs": [],
   "source": [
    "import pandas as pd"
   ]
  },
  {
   "cell_type": "code",
   "execution_count": 3,
   "id": "ae62c8d2",
   "metadata": {},
   "outputs": [],
   "source": [
    "pd.set_option('display.float_format', lambda x: '%.3f' % x)"
   ]
  },
  {
   "cell_type": "markdown",
   "id": "7d8ea84d",
   "metadata": {},
   "source": [
    "CONTENT\n",
    "<p>The figures presented here do not take into account differences in the cost of living in different countries, and the results vary greatly from one year to another based on fluctuations in the exchange rates of the country's currency. Such fluctuations change a country's ranking from one year to the next, even though they often make little or no difference to the standard of living of its population.\n",
    "\n",
    "GDP per capita is often considered an indicator of a country's standard of living; however, this is inaccurate because GDP per capita is not a measure of personal income.\n",
    "\n",
    "Comparisons of national income are also frequently made on the basis of purchasing power parity (PPP), to adjust for differences in the cost of living in different countries. (See List of countries by GDP (PPP) per capita.) PPP largely removes the exchange rate problem but not others; it does not reflect the value of economic output in international trade, and it also requires more estimation than GDP per capita. On the whole, PPP per capita figures are more narrowly spread than nominal GDP per capita figures.</p>"
   ]
  },
  {
   "cell_type": "code",
   "execution_count": 8,
   "id": "d007012d",
   "metadata": {},
   "outputs": [],
   "source": [
    "df = pd.read_csv(\"GDP (nominal) per Capita.csv\",encoding= 'unicode_escape',  index_col=0)"
   ]
  },
  {
   "cell_type": "code",
   "execution_count": 10,
   "id": "900301ee-6ffd-4138-9d81-18343311e458",
   "metadata": {},
   "outputs": [
    {
     "name": "stdout",
     "output_type": "stream",
     "text": [
      "    Country/Territory UN_Region  IMF_Estimate  IMF_Year  WorldBank_Estimate  \\\n",
      "1              Monaco    Europe             0         0              234316   \n",
      "2       Liechtenstein    Europe             0         0              157755   \n",
      "3          Luxembourg    Europe        132372      2023              133590   \n",
      "4             Ireland    Europe        114581      2023              100172   \n",
      "5             Bermuda  Americas             0         0              114090   \n",
      "..                ...       ...           ...       ...                 ...   \n",
      "219            Malawi    Africa           496      2023                 635   \n",
      "220       South Sudan    Africa           467      2023                1072   \n",
      "221      Sierra Leone    Africa           415      2023                 480   \n",
      "222       Afghanistan      Asia           611      2020                 369   \n",
      "223           Burundi    Africa           249      2023                 222   \n",
      "\n",
      "     WorldBank_Year  UN_Estimate UN_Year  \n",
      "1              2021       234317    2021  \n",
      "2              2020       169260    2021  \n",
      "3              2021       133745    2021  \n",
      "4              2021       101109    2021  \n",
      "5              2021       112653    2021  \n",
      "..              ...          ...     ...  \n",
      "219            2021          613    2021  \n",
      "220            2015          400    2021  \n",
      "221            2021          505    2021  \n",
      "222            2021          373    2021  \n",
      "223            2021          311    2021  \n",
      "\n",
      "[223 rows x 8 columns]\n"
     ]
    }
   ],
   "source": [
    "print(df)"
   ]
  },
  {
   "cell_type": "code",
   "execution_count": 11,
   "id": "7e7fae0b-54e0-4673-846a-6a74078ace47",
   "metadata": {},
   "outputs": [
    {
     "data": {
      "text/html": [
       "<div>\n",
       "<style scoped>\n",
       "    .dataframe tbody tr th:only-of-type {\n",
       "        vertical-align: middle;\n",
       "    }\n",
       "\n",
       "    .dataframe tbody tr th {\n",
       "        vertical-align: top;\n",
       "    }\n",
       "\n",
       "    .dataframe thead th {\n",
       "        text-align: right;\n",
       "    }\n",
       "</style>\n",
       "<table border=\"1\" class=\"dataframe\">\n",
       "  <thead>\n",
       "    <tr style=\"text-align: right;\">\n",
       "      <th></th>\n",
       "      <th>Country/Territory</th>\n",
       "      <th>UN_Region</th>\n",
       "      <th>IMF_Estimate</th>\n",
       "      <th>IMF_Year</th>\n",
       "      <th>WorldBank_Estimate</th>\n",
       "      <th>WorldBank_Year</th>\n",
       "      <th>UN_Estimate</th>\n",
       "      <th>UN_Year</th>\n",
       "    </tr>\n",
       "  </thead>\n",
       "  <tbody>\n",
       "    <tr>\n",
       "      <th>1</th>\n",
       "      <td>Monaco</td>\n",
       "      <td>Europe</td>\n",
       "      <td>0</td>\n",
       "      <td>0</td>\n",
       "      <td>234316</td>\n",
       "      <td>2021</td>\n",
       "      <td>234317</td>\n",
       "      <td>2021</td>\n",
       "    </tr>\n",
       "    <tr>\n",
       "      <th>2</th>\n",
       "      <td>Liechtenstein</td>\n",
       "      <td>Europe</td>\n",
       "      <td>0</td>\n",
       "      <td>0</td>\n",
       "      <td>157755</td>\n",
       "      <td>2020</td>\n",
       "      <td>169260</td>\n",
       "      <td>2021</td>\n",
       "    </tr>\n",
       "    <tr>\n",
       "      <th>3</th>\n",
       "      <td>Luxembourg</td>\n",
       "      <td>Europe</td>\n",
       "      <td>132372</td>\n",
       "      <td>2023</td>\n",
       "      <td>133590</td>\n",
       "      <td>2021</td>\n",
       "      <td>133745</td>\n",
       "      <td>2021</td>\n",
       "    </tr>\n",
       "    <tr>\n",
       "      <th>4</th>\n",
       "      <td>Ireland</td>\n",
       "      <td>Europe</td>\n",
       "      <td>114581</td>\n",
       "      <td>2023</td>\n",
       "      <td>100172</td>\n",
       "      <td>2021</td>\n",
       "      <td>101109</td>\n",
       "      <td>2021</td>\n",
       "    </tr>\n",
       "    <tr>\n",
       "      <th>5</th>\n",
       "      <td>Bermuda</td>\n",
       "      <td>Americas</td>\n",
       "      <td>0</td>\n",
       "      <td>0</td>\n",
       "      <td>114090</td>\n",
       "      <td>2021</td>\n",
       "      <td>112653</td>\n",
       "      <td>2021</td>\n",
       "    </tr>\n",
       "    <tr>\n",
       "      <th>...</th>\n",
       "      <td>...</td>\n",
       "      <td>...</td>\n",
       "      <td>...</td>\n",
       "      <td>...</td>\n",
       "      <td>...</td>\n",
       "      <td>...</td>\n",
       "      <td>...</td>\n",
       "      <td>...</td>\n",
       "    </tr>\n",
       "    <tr>\n",
       "      <th>219</th>\n",
       "      <td>Malawi</td>\n",
       "      <td>Africa</td>\n",
       "      <td>496</td>\n",
       "      <td>2023</td>\n",
       "      <td>635</td>\n",
       "      <td>2021</td>\n",
       "      <td>613</td>\n",
       "      <td>2021</td>\n",
       "    </tr>\n",
       "    <tr>\n",
       "      <th>220</th>\n",
       "      <td>South Sudan</td>\n",
       "      <td>Africa</td>\n",
       "      <td>467</td>\n",
       "      <td>2023</td>\n",
       "      <td>1072</td>\n",
       "      <td>2015</td>\n",
       "      <td>400</td>\n",
       "      <td>2021</td>\n",
       "    </tr>\n",
       "    <tr>\n",
       "      <th>221</th>\n",
       "      <td>Sierra Leone</td>\n",
       "      <td>Africa</td>\n",
       "      <td>415</td>\n",
       "      <td>2023</td>\n",
       "      <td>480</td>\n",
       "      <td>2021</td>\n",
       "      <td>505</td>\n",
       "      <td>2021</td>\n",
       "    </tr>\n",
       "    <tr>\n",
       "      <th>222</th>\n",
       "      <td>Afghanistan</td>\n",
       "      <td>Asia</td>\n",
       "      <td>611</td>\n",
       "      <td>2020</td>\n",
       "      <td>369</td>\n",
       "      <td>2021</td>\n",
       "      <td>373</td>\n",
       "      <td>2021</td>\n",
       "    </tr>\n",
       "    <tr>\n",
       "      <th>223</th>\n",
       "      <td>Burundi</td>\n",
       "      <td>Africa</td>\n",
       "      <td>249</td>\n",
       "      <td>2023</td>\n",
       "      <td>222</td>\n",
       "      <td>2021</td>\n",
       "      <td>311</td>\n",
       "      <td>2021</td>\n",
       "    </tr>\n",
       "  </tbody>\n",
       "</table>\n",
       "<p>223 rows × 8 columns</p>\n",
       "</div>"
      ],
      "text/plain": [
       "    Country/Territory UN_Region  IMF_Estimate  IMF_Year  WorldBank_Estimate  \\\n",
       "1              Monaco    Europe             0         0              234316   \n",
       "2       Liechtenstein    Europe             0         0              157755   \n",
       "3          Luxembourg    Europe        132372      2023              133590   \n",
       "4             Ireland    Europe        114581      2023              100172   \n",
       "5             Bermuda  Americas             0         0              114090   \n",
       "..                ...       ...           ...       ...                 ...   \n",
       "219            Malawi    Africa           496      2023                 635   \n",
       "220       South Sudan    Africa           467      2023                1072   \n",
       "221      Sierra Leone    Africa           415      2023                 480   \n",
       "222       Afghanistan      Asia           611      2020                 369   \n",
       "223           Burundi    Africa           249      2023                 222   \n",
       "\n",
       "     WorldBank_Year  UN_Estimate UN_Year  \n",
       "1              2021       234317    2021  \n",
       "2              2020       169260    2021  \n",
       "3              2021       133745    2021  \n",
       "4              2021       101109    2021  \n",
       "5              2021       112653    2021  \n",
       "..              ...          ...     ...  \n",
       "219            2021          613    2021  \n",
       "220            2015          400    2021  \n",
       "221            2021          505    2021  \n",
       "222            2021          373    2021  \n",
       "223            2021          311    2021  \n",
       "\n",
       "[223 rows x 8 columns]"
      ]
     },
     "execution_count": 11,
     "metadata": {},
     "output_type": "execute_result"
    }
   ],
   "source": [
    "df"
   ]
  },
  {
   "cell_type": "markdown",
   "id": "84e9d86b",
   "metadata": {},
   "source": [
    "## Visualization"
   ]
  },
  {
   "cell_type": "code",
   "execution_count": 46,
   "id": "bf0b0c79",
   "metadata": {},
   "outputs": [],
   "source": [
    "import matplotlib.pyplot as plt\n",
    "import seaborn as sns"
   ]
  },
  {
   "cell_type": "markdown",
   "id": "4a4da1d7",
   "metadata": {
    "tags": []
   },
   "source": [
    "### Histogram"
   ]
  },
  {
   "cell_type": "code",
   "execution_count": 48,
   "id": "a924b0ee",
   "metadata": {},
   "outputs": [
    {
     "data": {
      "image/png": "[encoded data removed]",
      "text/plain": [
       "<Figure size 1440x1080 with 6 Axes>"
      ]
     },
     "metadata": {
      "needs_background": "light"
     },
     "output_type": "display_data"
    }
   ],
   "source": [
    "df.hist(figsize=(20,15)) #figure size\n",
    "plt.show()"
   ]
  },
  {
   "cell_type": "code",
   "execution_count": 49,
   "id": "45fc4edf",
   "metadata": {},
   "outputs": [
    {
     "data": {
      "image/png": "[encoded data removed]",
      "text/plain": [
       "<Figure size 1296x864 with 4 Axes>"
      ]
     },
     "metadata": {
      "needs_background": "light"
     },
     "output_type": "display_data"
    }
   ],
   "source": [
    "df[[\"IMF_Estimate\", \"UN_Estimate\", \"WorldBank_Estimate\"]].hist(figsize=(18,12))\n",
    "\n",
    "plt.show()"
   ]
  },
  {
   "cell_type": "code",
   "execution_count": null,
   "id": "5fcaa21c-26bb-44f6-910a-37c1f82c3a92",
   "metadata": {},
   "outputs": [],
   "source": []
  },
  {
   "cell_type": "code",
   "execution_count": 51,
   "id": "765a97e0",
   "metadata": {},
   "outputs": [
    {
     "data": {
      "image/png": "[encoded data removed]",
      "text/plain": [
       "<Figure size 1296x864 with 4 Axes>"
      ]
     },
     "metadata": {
      "needs_background": "light"
     },
     "output_type": "display_data"
    }
   ],
   "source": [
    "df[[\"IMF_Estimate\", \"UN_Estimate\", \"WorldBank_Estimate\"]].hist(bins=5, figsize=(18,12))\n",
    "\n",
    "plt.show()"
   ]
  },
  {
   "cell_type": "code",
   "execution_count": 52,
   "id": "de2b7d75-392b-4f34-ab9e-fbcfcaf90cd4",
   "metadata": {},
   "outputs": [
    {
     "data": {
      "image/png": "[encoded data removed]",
      "text/plain": [
       "<Figure size 1296x864 with 4 Axes>"
      ]
     },
     "metadata": {
      "needs_background": "light"
     },
     "output_type": "display_data"
    }
   ],
   "source": [
    "df[[\"IMF_Estimate\", \"UN_Estimate\", \"WorldBank_Estimate\"]].hist(bins=10, figsize=(18,12))\n",
    "\n",
    "plt.show()"
   ]
  },
  {
   "cell_type": "code",
   "execution_count": 53,
   "id": "1f89e26d",
   "metadata": {},
   "outputs": [
    {
     "data": {
      "text/plain": [
       "min         0\n",
       "max    234316\n",
       "Name: WorldBank_Estimate, dtype: int64"
      ]
     },
     "execution_count": 53,
     "metadata": {},
     "output_type": "execute_result"
    }
   ],
   "source": [
    "df[\"WorldBank_Estimate\"].agg([\"min\",\"max\"])"
   ]
  },
  {
   "cell_type": "code",
   "execution_count": 54,
   "id": "623ac797",
   "metadata": {},
   "outputs": [
    {
     "data": {
      "text/plain": [
       "46863.2"
      ]
     },
     "execution_count": 54,
     "metadata": {},
     "output_type": "execute_result"
    }
   ],
   "source": [
    "234316/5\n",
    "#1 bin size if bins=5"
   ]
  },
  {
   "cell_type": "code",
   "execution_count": 55,
   "id": "a36546fa",
   "metadata": {},
   "outputs": [
    {
     "data": {
      "text/plain": [
       "23431.6"
      ]
     },
     "execution_count": 55,
     "metadata": {},
     "output_type": "execute_result"
    }
   ],
   "source": [
    "234316/10\n",
    "#1 bin size if bins not given any number"
   ]
  },
  {
   "cell_type": "code",
   "execution_count": 56,
   "id": "0b0d2188-1be0-4199-9a58-63155306b9c8",
   "metadata": {},
   "outputs": [
    {
     "data": {
      "text/html": [
       "<div>\n",
       "<style scoped>\n",
       "    .dataframe tbody tr th:only-of-type {\n",
       "        vertical-align: middle;\n",
       "    }\n",
       "\n",
       "    .dataframe tbody tr th {\n",
       "        vertical-align: top;\n",
       "    }\n",
       "\n",
       "    .dataframe thead th {\n",
       "        text-align: right;\n",
       "    }\n",
       "</style>\n",
       "<table border=\"1\" class=\"dataframe\">\n",
       "  <thead>\n",
       "    <tr style=\"text-align: right;\">\n",
       "      <th></th>\n",
       "      <th>WorldBank_Estimate</th>\n",
       "      <th>IMF_Estimate</th>\n",
       "      <th>UN_Estimate</th>\n",
       "    </tr>\n",
       "  </thead>\n",
       "  <tbody>\n",
       "    <tr>\n",
       "      <th>min</th>\n",
       "      <td>0</td>\n",
       "      <td>0</td>\n",
       "      <td>0</td>\n",
       "    </tr>\n",
       "    <tr>\n",
       "      <th>max</th>\n",
       "      <td>234316</td>\n",
       "      <td>132372</td>\n",
       "      <td>234317</td>\n",
       "    </tr>\n",
       "  </tbody>\n",
       "</table>\n",
       "</div>"
      ],
      "text/plain": [
       "     WorldBank_Estimate  IMF_Estimate  UN_Estimate\n",
       "min                   0             0            0\n",
       "max              234316        132372       234317"
      ]
     },
     "execution_count": 56,
     "metadata": {},
     "output_type": "execute_result"
    }
   ],
   "source": [
    "df[[\"WorldBank_Estimate\", \"IMF_Estimate\", \"UN_Estimate\"]].agg([\"min\",\"max\"])"
   ]
  },
  {
   "cell_type": "code",
   "execution_count": 57,
   "id": "79c3d1e5",
   "metadata": {},
   "outputs": [
    {
     "data": {
      "image/png": "[encoded data removed]",
      "text/plain": [
       "<Figure size 1296x864 with 4 Axes>"
      ]
     },
     "metadata": {
      "needs_background": "light"
     },
     "output_type": "display_data"
    }
   ],
   "source": [
    "df[[\"IMF_Estimate\", \"UN_Estimate\", \"WorldBank_Estimate\"]].hist(bins=3, figsize=(18,12)) # bins =10 by default\n",
    "\n",
    "plt.show()"
   ]
  },
  {
   "cell_type": "code",
   "execution_count": 58,
   "id": "f9807a7e-88f0-42bd-adc3-52abe9172b4e",
   "metadata": {},
   "outputs": [
    {
     "data": {
      "text/plain": [
       "Country/Territory     140\n",
       "UN_Region             140\n",
       "IMF_Estimate          140\n",
       "IMF_Year              140\n",
       "WorldBank_Estimate    140\n",
       "WorldBank_Year        140\n",
       "UN_Estimate           140\n",
       "UN_Year               140\n",
       "dtype: int64"
      ]
     },
     "execution_count": 58,
     "metadata": {},
     "output_type": "execute_result"
    }
   ],
   "source": [
    "df[df[\"IMF_Estimate\"]<10000].count()"
   ]
  },
  {
   "cell_type": "code",
   "execution_count": 60,
   "id": "05e7fd91",
   "metadata": {},
   "outputs": [
    {
     "data": {
      "image/png": "[encoded data removed]",
      "text/plain": [
       "<Figure size 1296x864 with 4 Axes>"
      ]
     },
     "metadata": {
      "needs_background": "light"
     },
     "output_type": "display_data"
    }
   ],
   "source": [
    "df[[\"IMF_Estimate\", \"UN_Estimate\", \"WorldBank_Estimate\"]].hist(bins=15, figsize=(18,12))\n",
    "\n",
    "\n",
    "plt.show()"
   ]
  },
  {
   "cell_type": "markdown",
   "id": "e70fb08b",
   "metadata": {
    "tags": []
   },
   "source": [
    "### Correlation Heatmap"
   ]
  },
  {
   "cell_type": "code",
   "execution_count": 62,
   "id": "eccbe472-b711-4a28-ab2c-41e658105756",
   "metadata": {},
   "outputs": [
    {
     "data": {
      "text/html": [
       "<div>\n",
       "<style scoped>\n",
       "    .dataframe tbody tr th:only-of-type {\n",
       "        vertical-align: middle;\n",
       "    }\n",
       "\n",
       "    .dataframe tbody tr th {\n",
       "        vertical-align: top;\n",
       "    }\n",
       "\n",
       "    .dataframe thead th {\n",
       "        text-align: right;\n",
       "    }\n",
       "</style>\n",
       "<table border=\"1\" class=\"dataframe\">\n",
       "  <thead>\n",
       "    <tr style=\"text-align: right;\">\n",
       "      <th></th>\n",
       "      <th>IMF_Estimate</th>\n",
       "      <th>IMF_Year</th>\n",
       "      <th>WorldBank_Estimate</th>\n",
       "      <th>WorldBank_Year</th>\n",
       "      <th>UN_Estimate</th>\n",
       "    </tr>\n",
       "  </thead>\n",
       "  <tbody>\n",
       "    <tr>\n",
       "      <th>IMF_Estimate</th>\n",
       "      <td>1.000</td>\n",
       "      <td>0.248</td>\n",
       "      <td>0.588</td>\n",
       "      <td>0.085</td>\n",
       "      <td>0.627</td>\n",
       "    </tr>\n",
       "    <tr>\n",
       "      <th>IMF_Year</th>\n",
       "      <td>0.248</td>\n",
       "      <td>1.000</td>\n",
       "      <td>-0.317</td>\n",
       "      <td>0.416</td>\n",
       "      <td>-0.211</td>\n",
       "    </tr>\n",
       "    <tr>\n",
       "      <th>WorldBank_Estimate</th>\n",
       "      <td>0.588</td>\n",
       "      <td>-0.317</td>\n",
       "      <td>1.000</td>\n",
       "      <td>0.117</td>\n",
       "      <td>0.930</td>\n",
       "    </tr>\n",
       "    <tr>\n",
       "      <th>WorldBank_Year</th>\n",
       "      <td>0.085</td>\n",
       "      <td>0.416</td>\n",
       "      <td>0.117</td>\n",
       "      <td>1.000</td>\n",
       "      <td>0.017</td>\n",
       "    </tr>\n",
       "    <tr>\n",
       "      <th>UN_Estimate</th>\n",
       "      <td>0.627</td>\n",
       "      <td>-0.211</td>\n",
       "      <td>0.930</td>\n",
       "      <td>0.017</td>\n",
       "      <td>1.000</td>\n",
       "    </tr>\n",
       "  </tbody>\n",
       "</table>\n",
       "</div>"
      ],
      "text/plain": [
       "                    IMF_Estimate  IMF_Year  WorldBank_Estimate  \\\n",
       "IMF_Estimate               1.000     0.248               0.588   \n",
       "IMF_Year                   0.248     1.000              -0.317   \n",
       "WorldBank_Estimate         0.588    -0.317               1.000   \n",
       "WorldBank_Year             0.085     0.416               0.117   \n",
       "UN_Estimate                0.627    -0.211               0.930   \n",
       "\n",
       "                    WorldBank_Year  UN_Estimate  \n",
       "IMF_Estimate                 0.085        0.627  \n",
       "IMF_Year                     0.416       -0.211  \n",
       "WorldBank_Estimate           0.117        0.930  \n",
       "WorldBank_Year               1.000        0.017  \n",
       "UN_Estimate                  0.017        1.000  "
      ]
     },
     "execution_count": 62,
     "metadata": {},
     "output_type": "execute_result"
    }
   ],
   "source": [
    "df.corr()"
   ]
  },
  {
   "cell_type": "code",
   "execution_count": 63,
   "id": "af75bfa2-6600-4549-9746-d7a96d2c92f4",
   "metadata": {},
   "outputs": [
    {
     "data": {
      "text/html": [
       "<div>\n",
       "<style scoped>\n",
       "    .dataframe tbody tr th:only-of-type {\n",
       "        vertical-align: middle;\n",
       "    }\n",
       "\n",
       "    .dataframe tbody tr th {\n",
       "        vertical-align: top;\n",
       "    }\n",
       "\n",
       "    .dataframe thead th {\n",
       "        text-align: right;\n",
       "    }\n",
       "</style>\n",
       "<table border=\"1\" class=\"dataframe\">\n",
       "  <thead>\n",
       "    <tr style=\"text-align: right;\">\n",
       "      <th></th>\n",
       "      <th>IMF_Estimate</th>\n",
       "      <th>UN_Estimate</th>\n",
       "      <th>WorldBank_Estimate</th>\n",
       "    </tr>\n",
       "  </thead>\n",
       "  <tbody>\n",
       "    <tr>\n",
       "      <th>IMF_Estimate</th>\n",
       "      <td>1.000</td>\n",
       "      <td>0.627</td>\n",
       "      <td>0.588</td>\n",
       "    </tr>\n",
       "    <tr>\n",
       "      <th>UN_Estimate</th>\n",
       "      <td>0.627</td>\n",
       "      <td>1.000</td>\n",
       "      <td>0.930</td>\n",
       "    </tr>\n",
       "    <tr>\n",
       "      <th>WorldBank_Estimate</th>\n",
       "      <td>0.588</td>\n",
       "      <td>0.930</td>\n",
       "      <td>1.000</td>\n",
       "    </tr>\n",
       "  </tbody>\n",
       "</table>\n",
       "</div>"
      ],
      "text/plain": [
       "                    IMF_Estimate  UN_Estimate  WorldBank_Estimate\n",
       "IMF_Estimate               1.000        0.627               0.588\n",
       "UN_Estimate                0.627        1.000               0.930\n",
       "WorldBank_Estimate         0.588        0.930               1.000"
      ]
     },
     "execution_count": 63,
     "metadata": {},
     "output_type": "execute_result"
    }
   ],
   "source": [
    "df[[\"IMF_Estimate\", \"UN_Estimate\", \"WorldBank_Estimate\"]].corr()"
   ]
  },
  {
   "cell_type": "code",
   "execution_count": 66,
   "id": "f6dbc603",
   "metadata": {},
   "outputs": [
    {
     "data": {
      "image/png": "[encoded data removed]",
      "text/plain": [
       "<Figure size 648x432 with 2 Axes>"
      ]
     },
     "metadata": {
      "needs_background": "light"
     },
     "output_type": "display_data"
    }
   ],
   "source": [
    "corr = df.corr()\n",
    "\n",
    "plt.figure(figsize=(9,6))\n",
    "sns.heatmap(corr)\n",
    "\n",
    "plt.show()"
   ]
  },
  {
   "cell_type": "code",
   "execution_count": 68,
   "id": "0ea2c2c6",
   "metadata": {},
   "outputs": [
    {
     "data": {
      "image/png": "[encoded data removed]",
      "text/plain": [
       "<Figure size 648x432 with 2 Axes>"
      ]
     },
     "metadata": {
      "needs_background": "light"
     },
     "output_type": "display_data"
    }
   ],
   "source": [
    "corr = df.corr()\n",
    "\n",
    "plt.figure(figsize=(9,6))\n",
    "\n",
    "sns.heatmap(corr, annot=True)\n",
    "\n",
    "plt.show()"
   ]
  },
  {
   "cell_type": "code",
   "execution_count": 71,
   "id": "ec56839b",
   "metadata": {},
   "outputs": [
    {
     "data": {
      "image/png": "[encoded data removed]",
      "text/plain": [
       "<Figure size 648x432 with 2 Axes>"
      ]
     },
     "metadata": {
      "needs_background": "light"
     },
     "output_type": "display_data"
    }
   ],
   "source": [
    "corr = df.corr()\n",
    "\n",
    "plt.figure(figsize=(9,6))\n",
    "\n",
    "sns.heatmap(corr, annot=True, cmap = 'GnBu')\n",
    "\n",
    "plt.show()"
   ]
  },
  {
   "cell_type": "code",
   "execution_count": 75,
   "id": "a4688e18",
   "metadata": {},
   "outputs": [
    {
     "data": {
      "image/png": "[encoded data removed]",
      "text/plain": [
       "<Figure size 648x432 with 2 Axes>"
      ]
     },
     "metadata": {
      "needs_background": "light"
     },
     "output_type": "display_data"
    }
   ],
   "source": [
    "corr = df.corr()\n",
    "\n",
    "plt.figure(figsize=(9,6))\n",
    "\n",
    "sns.heatmap(corr, annot=True, cmap = 'Purples')\n",
    "\n",
    "plt.title(\"Correlation Map\")\n",
    "\n",
    "\n",
    "plt.show()"
   ]
  },
  {
   "cell_type": "markdown",
   "id": "8ee4dc00",
   "metadata": {
    "tags": []
   },
   "source": [
    "### Bar plot"
   ]
  },
  {
   "cell_type": "code",
   "execution_count": 77,
   "id": "4ca42efd",
   "metadata": {},
   "outputs": [
    {
     "data": {
      "text/html": [
       "<div>\n",
       "<style scoped>\n",
       "    .dataframe tbody tr th:only-of-type {\n",
       "        vertical-align: middle;\n",
       "    }\n",
       "\n",
       "    .dataframe tbody tr th {\n",
       "        vertical-align: top;\n",
       "    }\n",
       "\n",
       "    .dataframe thead th {\n",
       "        text-align: right;\n",
       "    }\n",
       "</style>\n",
       "<table border=\"1\" class=\"dataframe\">\n",
       "  <thead>\n",
       "    <tr style=\"text-align: right;\">\n",
       "      <th></th>\n",
       "      <th>Country/Territory</th>\n",
       "      <th>UN_Region</th>\n",
       "      <th>IMF_Estimate</th>\n",
       "      <th>IMF_Year</th>\n",
       "      <th>WorldBank_Estimate</th>\n",
       "      <th>WorldBank_Year</th>\n",
       "      <th>UN_Estimate</th>\n",
       "      <th>UN_Year</th>\n",
       "    </tr>\n",
       "  </thead>\n",
       "  <tbody>\n",
       "    <tr>\n",
       "      <th>1</th>\n",
       "      <td>Monaco</td>\n",
       "      <td>Europe</td>\n",
       "      <td>0</td>\n",
       "      <td>0</td>\n",
       "      <td>234316</td>\n",
       "      <td>2021</td>\n",
       "      <td>234317</td>\n",
       "      <td>2021</td>\n",
       "    </tr>\n",
       "    <tr>\n",
       "      <th>2</th>\n",
       "      <td>Liechtenstein</td>\n",
       "      <td>Europe</td>\n",
       "      <td>0</td>\n",
       "      <td>0</td>\n",
       "      <td>157755</td>\n",
       "      <td>2020</td>\n",
       "      <td>169260</td>\n",
       "      <td>2021</td>\n",
       "    </tr>\n",
       "    <tr>\n",
       "      <th>3</th>\n",
       "      <td>Luxembourg</td>\n",
       "      <td>Europe</td>\n",
       "      <td>132372</td>\n",
       "      <td>2023</td>\n",
       "      <td>133590</td>\n",
       "      <td>2021</td>\n",
       "      <td>133745</td>\n",
       "      <td>2021</td>\n",
       "    </tr>\n",
       "    <tr>\n",
       "      <th>4</th>\n",
       "      <td>Ireland</td>\n",
       "      <td>Europe</td>\n",
       "      <td>114581</td>\n",
       "      <td>2023</td>\n",
       "      <td>100172</td>\n",
       "      <td>2021</td>\n",
       "      <td>101109</td>\n",
       "      <td>2021</td>\n",
       "    </tr>\n",
       "    <tr>\n",
       "      <th>5</th>\n",
       "      <td>Bermuda</td>\n",
       "      <td>Americas</td>\n",
       "      <td>0</td>\n",
       "      <td>0</td>\n",
       "      <td>114090</td>\n",
       "      <td>2021</td>\n",
       "      <td>112653</td>\n",
       "      <td>2021</td>\n",
       "    </tr>\n",
       "  </tbody>\n",
       "</table>\n",
       "</div>"
      ],
      "text/plain": [
       "  Country/Territory UN_Region  IMF_Estimate  IMF_Year  WorldBank_Estimate  \\\n",
       "1            Monaco    Europe             0         0              234316   \n",
       "2     Liechtenstein    Europe             0         0              157755   \n",
       "3        Luxembourg    Europe        132372      2023              133590   \n",
       "4           Ireland    Europe        114581      2023              100172   \n",
       "5           Bermuda  Americas             0         0              114090   \n",
       "\n",
       "   WorldBank_Year  UN_Estimate UN_Year  \n",
       "1            2021       234317    2021  \n",
       "2            2020       169260    2021  \n",
       "3            2021       133745    2021  \n",
       "4            2021       101109    2021  \n",
       "5            2021       112653    2021  "
      ]
     },
     "execution_count": 77,
     "metadata": {},
     "output_type": "execute_result"
    }
   ],
   "source": [
    "df.head()"
   ]
  },
  {
   "cell_type": "code",
   "execution_count": 92,
   "id": "a0dbfd09-f60a-4655-8c4a-819472892be1",
   "metadata": {},
   "outputs": [
    {
     "data": {
      "text/html": [
       "<div>\n",
       "<style scoped>\n",
       "    .dataframe tbody tr th:only-of-type {\n",
       "        vertical-align: middle;\n",
       "    }\n",
       "\n",
       "    .dataframe tbody tr th {\n",
       "        vertical-align: top;\n",
       "    }\n",
       "\n",
       "    .dataframe thead th {\n",
       "        text-align: right;\n",
       "    }\n",
       "</style>\n",
       "<table border=\"1\" class=\"dataframe\">\n",
       "  <thead>\n",
       "    <tr style=\"text-align: right;\">\n",
       "      <th></th>\n",
       "      <th>Country/Territory</th>\n",
       "      <th>UN_Region</th>\n",
       "      <th>IMF_Estimate</th>\n",
       "      <th>IMF_Year</th>\n",
       "      <th>WorldBank_Estimate</th>\n",
       "      <th>WorldBank_Year</th>\n",
       "      <th>UN_Estimate</th>\n",
       "      <th>UN_Year</th>\n",
       "    </tr>\n",
       "  </thead>\n",
       "  <tbody>\n",
       "    <tr>\n",
       "      <th>33</th>\n",
       "      <td>United Kingdom</td>\n",
       "      <td>Europe</td>\n",
       "      <td>46371</td>\n",
       "      <td>2023</td>\n",
       "      <td>46510</td>\n",
       "      <td>2021</td>\n",
       "      <td>46542</td>\n",
       "      <td>2021</td>\n",
       "    </tr>\n",
       "  </tbody>\n",
       "</table>\n",
       "</div>"
      ],
      "text/plain": [
       "   Country/Territory UN_Region  IMF_Estimate  IMF_Year  WorldBank_Estimate  \\\n",
       "33    United Kingdom    Europe         46371      2023               46510   \n",
       "\n",
       "    WorldBank_Year  UN_Estimate UN_Year  \n",
       "33            2021        46542    2021  "
      ]
     },
     "execution_count": 92,
     "metadata": {},
     "output_type": "execute_result"
    }
   ],
   "source": [
    "df[df[\"Country/Territory\"]==\"United Kingdom\"]"
   ]
  },
  {
   "cell_type": "code",
   "execution_count": 94,
   "id": "09e70a00",
   "metadata": {},
   "outputs": [
    {
     "data": {
      "image/png": "[encoded data removed]",
      "text/plain": [
       "<Figure size 432x288 with 1 Axes>"
      ]
     },
     "metadata": {
      "needs_background": "light"
     },
     "output_type": "display_data"
    }
   ],
   "source": [
    "sns.barplot(x=\"UN_Region\", y=\"WorldBank_Estimate\", data=df, ci=None)\n",
    "\n",
    "plt.show()"
   ]
  },
  {
   "cell_type": "code",
   "execution_count": 96,
   "id": "6a7c7377",
   "metadata": {},
   "outputs": [
    {
     "data": {
      "image/png": "[encoded data removed]",
      "text/plain": [
       "<Figure size 432x288 with 1 Axes>"
      ]
     },
     "metadata": {
      "needs_background": "light"
     },
     "output_type": "display_data"
    }
   ],
   "source": [
    "sns.barplot(x=\"WorldBank_Estimate\", y=\"UN_Region\", data=df, ci=None)\n",
    "\n",
    "plt.show()"
   ]
  },
  {
   "cell_type": "code",
   "execution_count": 112,
   "id": "f8659907",
   "metadata": {},
   "outputs": [
    {
     "data": {
      "image/png": "[encoded data removed]",
      "text/plain": [
       "<Figure size 576x360 with 1 Axes>"
      ]
     },
     "metadata": {
      "needs_background": "light"
     },
     "output_type": "display_data"
    }
   ],
   "source": [
    "fig = plt.figure(figsize = (8,5))\n",
    "\n",
    "ax = sns.barplot(x = \"IMF_Estimate\",  y = \"UN_Region\",  \n",
    "data = df, ci = None)\n",
    "ax.bar_label(ax.containers[0])\n",
    "\n",
    "ax.set_title(\"My title\")\n",
    "\n",
    "plt.show()"
   ]
  },
  {
   "cell_type": "code",
   "execution_count": 114,
   "id": "9a15bcad",
   "metadata": {},
   "outputs": [
    {
     "data": {
      "image/png": "[encoded data removed]",
      "text/plain": [
       "<Figure size 576x360 with 1 Axes>"
      ]
     },
     "metadata": {
      "needs_background": "light"
     },
     "output_type": "display_data"
    }
   ],
   "source": [
    "fig = plt.figure(figsize = (8,5)) \n",
    "ax = sns.barplot(x = \"UN_Region\",  y = \"IMF_Estimate\", \n",
    "                 data = df, ci = None) \n",
    "\n",
    "ax.bar_label(ax.containers[0]) \n",
    "\n",
    "\n",
    "ax.set_title(\"My title\")\n",
    "plt.show()"
   ]
  },
  {
   "cell_type": "code",
   "execution_count": null,
   "id": "6e99479a",
   "metadata": {},
   "outputs": [],
   "source": []
  },
  {
   "cell_type": "markdown",
   "id": "f1aa35d0",
   "metadata": {
    "tags": []
   },
   "source": [
    "### Scatter Plot"
   ]
  },
  {
   "cell_type": "code",
   "execution_count": 134,
   "id": "d8583563",
   "metadata": {},
   "outputs": [
    {
     "data": {
      "image/png": "[encoded data removed]",
      "text/plain": [
       "<Figure size 720x432 with 1 Axes>"
      ]
     },
     "metadata": {
      "needs_background": "light"
     },
     "output_type": "display_data"
    }
   ],
   "source": [
    "df.plot(x=\"UN_Region\", y=\"UN_Estimate\", kind=\"scatter\", figsize=(10,6), title=\"Scatter Plot\")\n",
    "\n",
    "plt.show()"
   ]
  },
  {
   "cell_type": "code",
   "execution_count": 136,
   "id": "67dc9155",
   "metadata": {},
   "outputs": [
    {
     "data": {
      "text/html": [
       "<div>\n",
       "<style scoped>\n",
       "    .dataframe tbody tr th:only-of-type {\n",
       "        vertical-align: middle;\n",
       "    }\n",
       "\n",
       "    .dataframe tbody tr th {\n",
       "        vertical-align: top;\n",
       "    }\n",
       "\n",
       "    .dataframe thead th {\n",
       "        text-align: right;\n",
       "    }\n",
       "</style>\n",
       "<table border=\"1\" class=\"dataframe\">\n",
       "  <thead>\n",
       "    <tr style=\"text-align: right;\">\n",
       "      <th></th>\n",
       "      <th>Country/Territory</th>\n",
       "      <th>UN_Region</th>\n",
       "      <th>IMF_Estimate</th>\n",
       "      <th>IMF_Year</th>\n",
       "      <th>WorldBank_Estimate</th>\n",
       "      <th>WorldBank_Year</th>\n",
       "      <th>UN_Estimate</th>\n",
       "      <th>UN_Year</th>\n",
       "    </tr>\n",
       "  </thead>\n",
       "  <tbody>\n",
       "    <tr>\n",
       "      <th>74</th>\n",
       "      <td>Seychelles</td>\n",
       "      <td>Africa</td>\n",
       "      <td>19536</td>\n",
       "      <td>2023</td>\n",
       "      <td>14653</td>\n",
       "      <td>2021</td>\n",
       "      <td>12085</td>\n",
       "      <td>2021</td>\n",
       "    </tr>\n",
       "    <tr>\n",
       "      <th>101</th>\n",
       "      <td>Mauritius</td>\n",
       "      <td>Africa</td>\n",
       "      <td>11548</td>\n",
       "      <td>2023</td>\n",
       "      <td>9106</td>\n",
       "      <td>2021</td>\n",
       "      <td>8873</td>\n",
       "      <td>2021</td>\n",
       "    </tr>\n",
       "    <tr>\n",
       "      <th>107</th>\n",
       "      <td>Equatorial Guinea</td>\n",
       "      <td>Africa</td>\n",
       "      <td>9777</td>\n",
       "      <td>2023</td>\n",
       "      <td>7507</td>\n",
       "      <td>2021</td>\n",
       "      <td>7605</td>\n",
       "      <td>2021</td>\n",
       "    </tr>\n",
       "    <tr>\n",
       "      <th>110</th>\n",
       "      <td>Gabon</td>\n",
       "      <td>Africa</td>\n",
       "      <td>9294</td>\n",
       "      <td>2023</td>\n",
       "      <td>8635</td>\n",
       "      <td>2021</td>\n",
       "      <td>7911</td>\n",
       "      <td>2021</td>\n",
       "    </tr>\n",
       "    <tr>\n",
       "      <th>119</th>\n",
       "      <td>Botswana</td>\n",
       "      <td>Africa</td>\n",
       "      <td>7270</td>\n",
       "      <td>2023</td>\n",
       "      <td>6805</td>\n",
       "      <td>2021</td>\n",
       "      <td>6805</td>\n",
       "      <td>2021</td>\n",
       "    </tr>\n",
       "    <tr>\n",
       "      <th>122</th>\n",
       "      <td>Libya</td>\n",
       "      <td>Africa</td>\n",
       "      <td>6763</td>\n",
       "      <td>2023</td>\n",
       "      <td>6357</td>\n",
       "      <td>2021</td>\n",
       "      <td>5791</td>\n",
       "      <td>2021</td>\n",
       "    </tr>\n",
       "    <tr>\n",
       "      <th>125</th>\n",
       "      <td>South Africa</td>\n",
       "      <td>Africa</td>\n",
       "      <td>6485</td>\n",
       "      <td>2023</td>\n",
       "      <td>7055</td>\n",
       "      <td>2021</td>\n",
       "      <td>7055</td>\n",
       "      <td>2021</td>\n",
       "    </tr>\n",
       "  </tbody>\n",
       "</table>\n",
       "</div>"
      ],
      "text/plain": [
       "     Country/Territory UN_Region  IMF_Estimate  IMF_Year  WorldBank_Estimate  \\\n",
       "74          Seychelles    Africa         19536      2023               14653   \n",
       "101          Mauritius    Africa         11548      2023                9106   \n",
       "107  Equatorial Guinea    Africa          9777      2023                7507   \n",
       "110              Gabon    Africa          9294      2023                8635   \n",
       "119           Botswana    Africa          7270      2023                6805   \n",
       "122              Libya    Africa          6763      2023                6357   \n",
       "125       South Africa    Africa          6485      2023                7055   \n",
       "\n",
       "     WorldBank_Year  UN_Estimate UN_Year  \n",
       "74             2021        12085    2021  \n",
       "101            2021         8873    2021  \n",
       "107            2021         7605    2021  \n",
       "110            2021         7911    2021  \n",
       "119            2021         6805    2021  \n",
       "122            2021         5791    2021  \n",
       "125            2021         7055    2021  "
      ]
     },
     "execution_count": 136,
     "metadata": {},
     "output_type": "execute_result"
    }
   ],
   "source": [
    "df[(df[\"UN_Region\"]==\"Africa\") & (df[\"UN_Estimate\"]>5000)]"
   ]
  },
  {
   "cell_type": "code",
   "execution_count": null,
   "id": "510f198a",
   "metadata": {},
   "outputs": [],
   "source": []
  },
  {
   "cell_type": "code",
   "execution_count": null,
   "id": "14284f4f",
   "metadata": {},
   "outputs": [],
   "source": []
  },
  {
   "cell_type": "code",
   "execution_count": null,
   "id": "f56493b0",
   "metadata": {},
   "outputs": [],
   "source": []
  },
  {
   "cell_type": "markdown",
   "id": "08663651",
   "metadata": {
    "tags": []
   },
   "source": [
    "### Boxplot and Outliers"
   ]
  },
  {
   "cell_type": "code",
   "execution_count": 142,
   "id": "3ceac0a3",
   "metadata": {},
   "outputs": [
    {
     "data": {
      "image/png": "[encoded data removed]",
      "text/plain": [
       "<Figure size 432x288 with 1 Axes>"
      ]
     },
     "metadata": {
      "needs_background": "light"
     },
     "output_type": "display_data"
    }
   ],
   "source": [
    "sns.boxplot(x=df[\"UN_Estimate\"])\n",
    "plt.show()"
   ]
  },
  {
   "cell_type": "code",
   "execution_count": 144,
   "id": "7081b2d4",
   "metadata": {},
   "outputs": [
    {
     "data": {
      "text/html": [
       "<div>\n",
       "<style scoped>\n",
       "    .dataframe tbody tr th:only-of-type {\n",
       "        vertical-align: middle;\n",
       "    }\n",
       "\n",
       "    .dataframe tbody tr th {\n",
       "        vertical-align: top;\n",
       "    }\n",
       "\n",
       "    .dataframe thead th {\n",
       "        text-align: right;\n",
       "    }\n",
       "</style>\n",
       "<table border=\"1\" class=\"dataframe\">\n",
       "  <thead>\n",
       "    <tr style=\"text-align: right;\">\n",
       "      <th></th>\n",
       "      <th>Country/Territory</th>\n",
       "      <th>UN_Region</th>\n",
       "      <th>IMF_Estimate</th>\n",
       "      <th>IMF_Year</th>\n",
       "      <th>WorldBank_Estimate</th>\n",
       "      <th>WorldBank_Year</th>\n",
       "      <th>UN_Estimate</th>\n",
       "      <th>UN_Year</th>\n",
       "    </tr>\n",
       "  </thead>\n",
       "  <tbody>\n",
       "    <tr>\n",
       "      <th>1</th>\n",
       "      <td>Monaco</td>\n",
       "      <td>Europe</td>\n",
       "      <td>0</td>\n",
       "      <td>0</td>\n",
       "      <td>234316</td>\n",
       "      <td>2021</td>\n",
       "      <td>234317</td>\n",
       "      <td>2021</td>\n",
       "    </tr>\n",
       "    <tr>\n",
       "      <th>2</th>\n",
       "      <td>Liechtenstein</td>\n",
       "      <td>Europe</td>\n",
       "      <td>0</td>\n",
       "      <td>0</td>\n",
       "      <td>157755</td>\n",
       "      <td>2020</td>\n",
       "      <td>169260</td>\n",
       "      <td>2021</td>\n",
       "    </tr>\n",
       "    <tr>\n",
       "      <th>3</th>\n",
       "      <td>Luxembourg</td>\n",
       "      <td>Europe</td>\n",
       "      <td>132372</td>\n",
       "      <td>2023</td>\n",
       "      <td>133590</td>\n",
       "      <td>2021</td>\n",
       "      <td>133745</td>\n",
       "      <td>2021</td>\n",
       "    </tr>\n",
       "    <tr>\n",
       "      <th>4</th>\n",
       "      <td>Ireland</td>\n",
       "      <td>Europe</td>\n",
       "      <td>114581</td>\n",
       "      <td>2023</td>\n",
       "      <td>100172</td>\n",
       "      <td>2021</td>\n",
       "      <td>101109</td>\n",
       "      <td>2021</td>\n",
       "    </tr>\n",
       "    <tr>\n",
       "      <th>5</th>\n",
       "      <td>Bermuda</td>\n",
       "      <td>Americas</td>\n",
       "      <td>0</td>\n",
       "      <td>0</td>\n",
       "      <td>114090</td>\n",
       "      <td>2021</td>\n",
       "      <td>112653</td>\n",
       "      <td>2021</td>\n",
       "    </tr>\n",
       "  </tbody>\n",
       "</table>\n",
       "</div>"
      ],
      "text/plain": [
       "  Country/Territory UN_Region  IMF_Estimate  IMF_Year  WorldBank_Estimate  \\\n",
       "1            Monaco    Europe             0         0              234316   \n",
       "2     Liechtenstein    Europe             0         0              157755   \n",
       "3        Luxembourg    Europe        132372      2023              133590   \n",
       "4           Ireland    Europe        114581      2023              100172   \n",
       "5           Bermuda  Americas             0         0              114090   \n",
       "\n",
       "   WorldBank_Year  UN_Estimate UN_Year  \n",
       "1            2021       234317    2021  \n",
       "2            2020       169260    2021  \n",
       "3            2021       133745    2021  \n",
       "4            2021       101109    2021  \n",
       "5            2021       112653    2021  "
      ]
     },
     "execution_count": 144,
     "metadata": {},
     "output_type": "execute_result"
    }
   ],
   "source": [
    "df[df[\"UN_Estimate\"]>50000].head()"
   ]
  },
  {
   "cell_type": "code",
   "execution_count": 146,
   "id": "99282133",
   "metadata": {},
   "outputs": [
    {
     "data": {
      "image/png": "[encoded data removed]",
      "text/plain": [
       "<Figure size 432x288 with 1 Axes>"
      ]
     },
     "metadata": {
      "needs_background": "light"
     },
     "output_type": "display_data"
    }
   ],
   "source": [
    "sns.boxplot(x=df[\"WorldBank_Estimate\"])\n",
    "\n",
    "plt.show()"
   ]
  },
  {
   "cell_type": "code",
   "execution_count": 148,
   "id": "6ba80c49",
   "metadata": {},
   "outputs": [
    {
     "data": {
      "image/png": "[encoded data removed]",
      "text/plain": [
       "<Figure size 432x288 with 1 Axes>"
      ]
     },
     "metadata": {
      "needs_background": "light"
     },
     "output_type": "display_data"
    }
   ],
   "source": [
    "sns.boxplot(x=df[\"IMF_Estimate\"])\n",
    "\n",
    "plt.show()"
   ]
  },
  {
   "cell_type": "code",
   "execution_count": 150,
   "id": "983a04a2",
   "metadata": {},
   "outputs": [
    {
     "data": {
      "text/html": [
       "<div>\n",
       "<style scoped>\n",
       "    .dataframe tbody tr th:only-of-type {\n",
       "        vertical-align: middle;\n",
       "    }\n",
       "\n",
       "    .dataframe tbody tr th {\n",
       "        vertical-align: top;\n",
       "    }\n",
       "\n",
       "    .dataframe thead th {\n",
       "        text-align: right;\n",
       "    }\n",
       "</style>\n",
       "<table border=\"1\" class=\"dataframe\">\n",
       "  <thead>\n",
       "    <tr style=\"text-align: right;\">\n",
       "      <th></th>\n",
       "      <th>Country/Territory</th>\n",
       "      <th>UN_Region</th>\n",
       "      <th>IMF_Estimate</th>\n",
       "      <th>IMF_Year</th>\n",
       "      <th>WorldBank_Estimate</th>\n",
       "      <th>WorldBank_Year</th>\n",
       "      <th>UN_Estimate</th>\n",
       "      <th>UN_Year</th>\n",
       "    </tr>\n",
       "  </thead>\n",
       "  <tbody>\n",
       "    <tr>\n",
       "      <th>1</th>\n",
       "      <td>Monaco</td>\n",
       "      <td>Europe</td>\n",
       "      <td>0</td>\n",
       "      <td>0</td>\n",
       "      <td>234316</td>\n",
       "      <td>2021</td>\n",
       "      <td>234317</td>\n",
       "      <td>2021</td>\n",
       "    </tr>\n",
       "    <tr>\n",
       "      <th>2</th>\n",
       "      <td>Liechtenstein</td>\n",
       "      <td>Europe</td>\n",
       "      <td>0</td>\n",
       "      <td>0</td>\n",
       "      <td>157755</td>\n",
       "      <td>2020</td>\n",
       "      <td>169260</td>\n",
       "      <td>2021</td>\n",
       "    </tr>\n",
       "    <tr>\n",
       "      <th>3</th>\n",
       "      <td>Luxembourg</td>\n",
       "      <td>Europe</td>\n",
       "      <td>132372</td>\n",
       "      <td>2023</td>\n",
       "      <td>133590</td>\n",
       "      <td>2021</td>\n",
       "      <td>133745</td>\n",
       "      <td>2021</td>\n",
       "    </tr>\n",
       "    <tr>\n",
       "      <th>4</th>\n",
       "      <td>Ireland</td>\n",
       "      <td>Europe</td>\n",
       "      <td>114581</td>\n",
       "      <td>2023</td>\n",
       "      <td>100172</td>\n",
       "      <td>2021</td>\n",
       "      <td>101109</td>\n",
       "      <td>2021</td>\n",
       "    </tr>\n",
       "    <tr>\n",
       "      <th>5</th>\n",
       "      <td>Bermuda</td>\n",
       "      <td>Americas</td>\n",
       "      <td>0</td>\n",
       "      <td>0</td>\n",
       "      <td>114090</td>\n",
       "      <td>2021</td>\n",
       "      <td>112653</td>\n",
       "      <td>2021</td>\n",
       "    </tr>\n",
       "  </tbody>\n",
       "</table>\n",
       "</div>"
      ],
      "text/plain": [
       "  Country/Territory UN_Region  IMF_Estimate  IMF_Year  WorldBank_Estimate  \\\n",
       "1            Monaco    Europe             0         0              234316   \n",
       "2     Liechtenstein    Europe             0         0              157755   \n",
       "3        Luxembourg    Europe        132372      2023              133590   \n",
       "4           Ireland    Europe        114581      2023              100172   \n",
       "5           Bermuda  Americas             0         0              114090   \n",
       "\n",
       "   WorldBank_Year  UN_Estimate UN_Year  \n",
       "1            2021       234317    2021  \n",
       "2            2020       169260    2021  \n",
       "3            2021       133745    2021  \n",
       "4            2021       101109    2021  \n",
       "5            2021       112653    2021  "
      ]
     },
     "execution_count": 150,
     "metadata": {},
     "output_type": "execute_result"
    }
   ],
   "source": [
    "df[df[\"UN_Estimate\"]>100000]"
   ]
  },
  {
   "cell_type": "code",
   "execution_count": 152,
   "id": "91b0c382",
   "metadata": {},
   "outputs": [
    {
     "data": {
      "text/plain": [
       "17767.304932735427"
      ]
     },
     "execution_count": 152,
     "metadata": {},
     "output_type": "execute_result"
    }
   ],
   "source": [
    "df.UN_Estimate.mean()"
   ]
  },
  {
   "cell_type": "code",
   "execution_count": 154,
   "id": "bad9872e",
   "metadata": {},
   "outputs": [
    {
     "data": {
      "text/plain": [
       "(223, 8)"
      ]
     },
     "execution_count": 154,
     "metadata": {},
     "output_type": "execute_result"
    }
   ],
   "source": [
    "df.shape"
   ]
  },
  {
   "cell_type": "code",
   "execution_count": 156,
   "id": "78b3c8ef",
   "metadata": {},
   "outputs": [
    {
     "data": {
      "text/plain": [
       "0"
      ]
     },
     "execution_count": 156,
     "metadata": {},
     "output_type": "execute_result"
    }
   ],
   "source": [
    "df.isnull().sum().sum()"
   ]
  },
  {
   "cell_type": "code",
   "execution_count": null,
   "id": "f416a26a-5f01-4947-9c0b-2b8a30679941",
   "metadata": {},
   "outputs": [],
   "source": []
  },
  {
   "cell_type": "markdown",
   "id": "080decce",
   "metadata": {
    "tags": []
   },
   "source": [
    "## Create another dataframe called data excluding  5 countries with highest UN estimate"
   ]
  },
  {
   "cell_type": "code",
   "execution_count": 176,
   "id": "1c0b325d",
   "metadata": {},
   "outputs": [
    {
     "data": {
      "text/html": [
       "<div>\n",
       "<style scoped>\n",
       "    .dataframe tbody tr th:only-of-type {\n",
       "        vertical-align: middle;\n",
       "    }\n",
       "\n",
       "    .dataframe tbody tr th {\n",
       "        vertical-align: top;\n",
       "    }\n",
       "\n",
       "    .dataframe thead th {\n",
       "        text-align: right;\n",
       "    }\n",
       "</style>\n",
       "<table border=\"1\" class=\"dataframe\">\n",
       "  <thead>\n",
       "    <tr style=\"text-align: right;\">\n",
       "      <th></th>\n",
       "      <th>Country/Territory</th>\n",
       "      <th>UN_Region</th>\n",
       "      <th>IMF_Estimate</th>\n",
       "      <th>IMF_Year</th>\n",
       "      <th>WorldBank_Estimate</th>\n",
       "      <th>WorldBank_Year</th>\n",
       "      <th>UN_Estimate</th>\n",
       "      <th>UN_Year</th>\n",
       "    </tr>\n",
       "  </thead>\n",
       "  <tbody>\n",
       "    <tr>\n",
       "      <th>1</th>\n",
       "      <td>Monaco</td>\n",
       "      <td>Europe</td>\n",
       "      <td>0</td>\n",
       "      <td>0</td>\n",
       "      <td>234316</td>\n",
       "      <td>2021</td>\n",
       "      <td>234317</td>\n",
       "      <td>2021</td>\n",
       "    </tr>\n",
       "    <tr>\n",
       "      <th>2</th>\n",
       "      <td>Liechtenstein</td>\n",
       "      <td>Europe</td>\n",
       "      <td>0</td>\n",
       "      <td>0</td>\n",
       "      <td>157755</td>\n",
       "      <td>2020</td>\n",
       "      <td>169260</td>\n",
       "      <td>2021</td>\n",
       "    </tr>\n",
       "    <tr>\n",
       "      <th>3</th>\n",
       "      <td>Luxembourg</td>\n",
       "      <td>Europe</td>\n",
       "      <td>132372</td>\n",
       "      <td>2023</td>\n",
       "      <td>133590</td>\n",
       "      <td>2021</td>\n",
       "      <td>133745</td>\n",
       "      <td>2021</td>\n",
       "    </tr>\n",
       "    <tr>\n",
       "      <th>4</th>\n",
       "      <td>Ireland</td>\n",
       "      <td>Europe</td>\n",
       "      <td>114581</td>\n",
       "      <td>2023</td>\n",
       "      <td>100172</td>\n",
       "      <td>2021</td>\n",
       "      <td>101109</td>\n",
       "      <td>2021</td>\n",
       "    </tr>\n",
       "    <tr>\n",
       "      <th>5</th>\n",
       "      <td>Bermuda</td>\n",
       "      <td>Americas</td>\n",
       "      <td>0</td>\n",
       "      <td>0</td>\n",
       "      <td>114090</td>\n",
       "      <td>2021</td>\n",
       "      <td>112653</td>\n",
       "      <td>2021</td>\n",
       "    </tr>\n",
       "  </tbody>\n",
       "</table>\n",
       "</div>"
      ],
      "text/plain": [
       "  Country/Territory UN_Region  IMF_Estimate  IMF_Year  WorldBank_Estimate  \\\n",
       "1            Monaco    Europe             0         0              234316   \n",
       "2     Liechtenstein    Europe             0         0              157755   \n",
       "3        Luxembourg    Europe        132372      2023              133590   \n",
       "4           Ireland    Europe        114581      2023              100172   \n",
       "5           Bermuda  Americas             0         0              114090   \n",
       "\n",
       "   WorldBank_Year  UN_Estimate UN_Year  \n",
       "1            2021       234317    2021  \n",
       "2            2020       169260    2021  \n",
       "3            2021       133745    2021  \n",
       "4            2021       101109    2021  \n",
       "5            2021       112653    2021  "
      ]
     },
     "execution_count": 176,
     "metadata": {},
     "output_type": "execute_result"
    }
   ],
   "source": [
    "data = df[(df[\"UN_Estimate\"]>100000)]\n",
    "data"
   ]
  },
  {
   "cell_type": "code",
   "execution_count": 178,
   "id": "9f3d78a4",
   "metadata": {},
   "outputs": [],
   "source": [
    "data = data[data[\"IMF_Year\"]==0]"
   ]
  },
  {
   "cell_type": "code",
   "execution_count": 180,
   "id": "273c9a10",
   "metadata": {},
   "outputs": [
    {
     "data": {
      "text/plain": [
       "172076.66666666666"
      ]
     },
     "execution_count": 180,
     "metadata": {},
     "output_type": "execute_result"
    }
   ],
   "source": [
    "data.UN_Estimate.mean()"
   ]
  },
  {
   "cell_type": "code",
   "execution_count": 182,
   "id": "9574b990-6f5b-4f4f-89ed-4ccb061dd2f6",
   "metadata": {},
   "outputs": [
    {
     "data": {
      "text/plain": [
       "1       True\n",
       "2       True\n",
       "3      False\n",
       "4      False\n",
       "5       True\n",
       "       ...  \n",
       "219    False\n",
       "220    False\n",
       "221    False\n",
       "222    False\n",
       "223    False\n",
       "Name: IMF_Year, Length: 223, dtype: bool"
      ]
     },
     "execution_count": 182,
     "metadata": {},
     "output_type": "execute_result"
    }
   ],
   "source": [
    "df[\"IMF_Year\"].eq(0)\n"
   ]
  },
  {
   "cell_type": "code",
   "execution_count": 184,
   "id": "5d558555-9781-4f0c-b1e5-554a7caca571",
   "metadata": {},
   "outputs": [
    {
     "data": {
      "text/html": [
       "<div>\n",
       "<style scoped>\n",
       "    .dataframe tbody tr th:only-of-type {\n",
       "        vertical-align: middle;\n",
       "    }\n",
       "\n",
       "    .dataframe tbody tr th {\n",
       "        vertical-align: top;\n",
       "    }\n",
       "\n",
       "    .dataframe thead th {\n",
       "        text-align: right;\n",
       "    }\n",
       "</style>\n",
       "<table border=\"1\" class=\"dataframe\">\n",
       "  <thead>\n",
       "    <tr style=\"text-align: right;\">\n",
       "      <th></th>\n",
       "      <th>Country/Territory</th>\n",
       "      <th>UN_Region</th>\n",
       "      <th>IMF_Estimate</th>\n",
       "      <th>IMF_Year</th>\n",
       "      <th>WorldBank_Estimate</th>\n",
       "      <th>WorldBank_Year</th>\n",
       "      <th>UN_Estimate</th>\n",
       "      <th>UN_Year</th>\n",
       "    </tr>\n",
       "  </thead>\n",
       "  <tbody>\n",
       "    <tr>\n",
       "      <th>1</th>\n",
       "      <td>Monaco</td>\n",
       "      <td>Europe</td>\n",
       "      <td>0</td>\n",
       "      <td>0</td>\n",
       "      <td>234316</td>\n",
       "      <td>2021</td>\n",
       "      <td>234317</td>\n",
       "      <td>2021</td>\n",
       "    </tr>\n",
       "    <tr>\n",
       "      <th>2</th>\n",
       "      <td>Liechtenstein</td>\n",
       "      <td>Europe</td>\n",
       "      <td>0</td>\n",
       "      <td>0</td>\n",
       "      <td>157755</td>\n",
       "      <td>2020</td>\n",
       "      <td>169260</td>\n",
       "      <td>2021</td>\n",
       "    </tr>\n",
       "    <tr>\n",
       "      <th>5</th>\n",
       "      <td>Bermuda</td>\n",
       "      <td>Americas</td>\n",
       "      <td>0</td>\n",
       "      <td>0</td>\n",
       "      <td>114090</td>\n",
       "      <td>2021</td>\n",
       "      <td>112653</td>\n",
       "      <td>2021</td>\n",
       "    </tr>\n",
       "    <tr>\n",
       "      <th>9</th>\n",
       "      <td>Isle of Man</td>\n",
       "      <td>Europe</td>\n",
       "      <td>0</td>\n",
       "      <td>0</td>\n",
       "      <td>87158</td>\n",
       "      <td>2019</td>\n",
       "      <td>0</td>\n",
       "      <td>0</td>\n",
       "    </tr>\n",
       "    <tr>\n",
       "      <th>10</th>\n",
       "      <td>Cayman Islands</td>\n",
       "      <td>Americas</td>\n",
       "      <td>0</td>\n",
       "      <td>0</td>\n",
       "      <td>86569</td>\n",
       "      <td>2021</td>\n",
       "      <td>85250</td>\n",
       "      <td>2021</td>\n",
       "    </tr>\n",
       "    <tr>\n",
       "      <th>14</th>\n",
       "      <td>Channel Islands</td>\n",
       "      <td>Europe</td>\n",
       "      <td>0</td>\n",
       "      <td>0</td>\n",
       "      <td>75153</td>\n",
       "      <td>2007</td>\n",
       "      <td>0</td>\n",
       "      <td>0</td>\n",
       "    </tr>\n",
       "    <tr>\n",
       "      <th>15</th>\n",
       "      <td>Faroe Islands</td>\n",
       "      <td>Europe</td>\n",
       "      <td>0</td>\n",
       "      <td>0</td>\n",
       "      <td>69010</td>\n",
       "      <td>2021</td>\n",
       "      <td>0</td>\n",
       "      <td>0</td>\n",
       "    </tr>\n",
       "    <tr>\n",
       "      <th>19</th>\n",
       "      <td>Greenland</td>\n",
       "      <td>Americas</td>\n",
       "      <td>0</td>\n",
       "      <td>0</td>\n",
       "      <td>54571</td>\n",
       "      <td>2020</td>\n",
       "      <td>58185</td>\n",
       "      <td>2021</td>\n",
       "    </tr>\n",
       "    <tr>\n",
       "      <th>31</th>\n",
       "      <td>British Virgin Islands</td>\n",
       "      <td>Americas</td>\n",
       "      <td>0</td>\n",
       "      <td>0</td>\n",
       "      <td>0</td>\n",
       "      <td>0</td>\n",
       "      <td>49444</td>\n",
       "      <td>2021</td>\n",
       "    </tr>\n",
       "    <tr>\n",
       "      <th>37</th>\n",
       "      <td>US Virgin Islands</td>\n",
       "      <td>Americas</td>\n",
       "      <td>0</td>\n",
       "      <td>0</td>\n",
       "      <td>39552</td>\n",
       "      <td>2020</td>\n",
       "      <td>0</td>\n",
       "      <td>0</td>\n",
       "    </tr>\n",
       "    <tr>\n",
       "      <th>39</th>\n",
       "      <td>New Caledonia</td>\n",
       "      <td>Oceania</td>\n",
       "      <td>0</td>\n",
       "      <td>0</td>\n",
       "      <td>37160</td>\n",
       "      <td>2021</td>\n",
       "      <td>34994</td>\n",
       "      <td>2021</td>\n",
       "    </tr>\n",
       "    <tr>\n",
       "      <th>42</th>\n",
       "      <td>Guam</td>\n",
       "      <td>Oceania</td>\n",
       "      <td>0</td>\n",
       "      <td>0</td>\n",
       "      <td>35905</td>\n",
       "      <td>2021</td>\n",
       "      <td>0</td>\n",
       "      <td>0</td>\n",
       "    </tr>\n",
       "    <tr>\n",
       "      <th>58</th>\n",
       "      <td>Sint Maarten (Dutch part)</td>\n",
       "      <td>Americas</td>\n",
       "      <td>0</td>\n",
       "      <td>0</td>\n",
       "      <td>28988</td>\n",
       "      <td>2018</td>\n",
       "      <td>26199</td>\n",
       "      <td>2021</td>\n",
       "    </tr>\n",
       "    <tr>\n",
       "      <th>61</th>\n",
       "      <td>Northern Mariana Islands</td>\n",
       "      <td>Oceania</td>\n",
       "      <td>0</td>\n",
       "      <td>0</td>\n",
       "      <td>23707</td>\n",
       "      <td>2019</td>\n",
       "      <td>0</td>\n",
       "      <td>0</td>\n",
       "    </tr>\n",
       "    <tr>\n",
       "      <th>65</th>\n",
       "      <td>Saint Martin (French part)</td>\n",
       "      <td>Americas</td>\n",
       "      <td>0</td>\n",
       "      <td>0</td>\n",
       "      <td>21921</td>\n",
       "      <td>2014</td>\n",
       "      <td>0</td>\n",
       "      <td>0</td>\n",
       "    </tr>\n",
       "    <tr>\n",
       "      <th>68</th>\n",
       "      <td>Turks and Caicos Islands</td>\n",
       "      <td>Americas</td>\n",
       "      <td>0</td>\n",
       "      <td>0</td>\n",
       "      <td>20909</td>\n",
       "      <td>2021</td>\n",
       "      <td>20909</td>\n",
       "      <td>2021</td>\n",
       "    </tr>\n",
       "    <tr>\n",
       "      <th>71</th>\n",
       "      <td>French Polynesia</td>\n",
       "      <td>Oceania</td>\n",
       "      <td>0</td>\n",
       "      <td>0</td>\n",
       "      <td>19915</td>\n",
       "      <td>2021</td>\n",
       "      <td>19915</td>\n",
       "      <td>2021</td>\n",
       "    </tr>\n",
       "    <tr>\n",
       "      <th>76</th>\n",
       "      <td>Cook Islands</td>\n",
       "      <td>Oceania</td>\n",
       "      <td>0</td>\n",
       "      <td>0</td>\n",
       "      <td>0</td>\n",
       "      <td>0</td>\n",
       "      <td>19264</td>\n",
       "      <td>2021</td>\n",
       "    </tr>\n",
       "    <tr>\n",
       "      <th>77</th>\n",
       "      <td>Anguilla</td>\n",
       "      <td>Americas</td>\n",
       "      <td>0</td>\n",
       "      <td>0</td>\n",
       "      <td>0</td>\n",
       "      <td>0</td>\n",
       "      <td>19216</td>\n",
       "      <td>2021</td>\n",
       "    </tr>\n",
       "    <tr>\n",
       "      <th>82</th>\n",
       "      <td>CuraÃ§ao</td>\n",
       "      <td>Americas</td>\n",
       "      <td>0</td>\n",
       "      <td>0</td>\n",
       "      <td>17718</td>\n",
       "      <td>2021</td>\n",
       "      <td>14183</td>\n",
       "      <td>2021</td>\n",
       "    </tr>\n",
       "    <tr>\n",
       "      <th>85</th>\n",
       "      <td>Montserrat</td>\n",
       "      <td>Americas</td>\n",
       "      <td>0</td>\n",
       "      <td>0</td>\n",
       "      <td>0</td>\n",
       "      <td>0</td>\n",
       "      <td>16199</td>\n",
       "      <td>2021</td>\n",
       "    </tr>\n",
       "    <tr>\n",
       "      <th>86</th>\n",
       "      <td>American Samoa</td>\n",
       "      <td>Oceania</td>\n",
       "      <td>0</td>\n",
       "      <td>0</td>\n",
       "      <td>15743</td>\n",
       "      <td>2021</td>\n",
       "      <td>0</td>\n",
       "      <td>0</td>\n",
       "    </tr>\n",
       "    <tr>\n",
       "      <th>104</th>\n",
       "      <td>Cuba</td>\n",
       "      <td>Americas</td>\n",
       "      <td>0</td>\n",
       "      <td>0</td>\n",
       "      <td>9500</td>\n",
       "      <td>2020</td>\n",
       "      <td>11255</td>\n",
       "      <td>2021</td>\n",
       "    </tr>\n",
       "    <tr>\n",
       "      <th>196</th>\n",
       "      <td>Zanzibar</td>\n",
       "      <td>Africa</td>\n",
       "      <td>0</td>\n",
       "      <td>0</td>\n",
       "      <td>0</td>\n",
       "      <td>0</td>\n",
       "      <td>1211</td>\n",
       "      <td>2021</td>\n",
       "    </tr>\n",
       "    <tr>\n",
       "      <th>204</th>\n",
       "      <td>Syria</td>\n",
       "      <td>Asia</td>\n",
       "      <td>0</td>\n",
       "      <td>0</td>\n",
       "      <td>533</td>\n",
       "      <td>2020</td>\n",
       "      <td>925</td>\n",
       "      <td>2021</td>\n",
       "    </tr>\n",
       "    <tr>\n",
       "      <th>212</th>\n",
       "      <td>North Korea</td>\n",
       "      <td>Asia</td>\n",
       "      <td>0</td>\n",
       "      <td>0</td>\n",
       "      <td>0</td>\n",
       "      <td>0</td>\n",
       "      <td>654</td>\n",
       "      <td>2021</td>\n",
       "    </tr>\n",
       "  </tbody>\n",
       "</table>\n",
       "</div>"
      ],
      "text/plain": [
       "              Country/Territory UN_Region  IMF_Estimate  IMF_Year  \\\n",
       "1                        Monaco    Europe             0         0   \n",
       "2                 Liechtenstein    Europe             0         0   \n",
       "5                       Bermuda  Americas             0         0   \n",
       "9                   Isle of Man    Europe             0         0   \n",
       "10               Cayman Islands  Americas             0         0   \n",
       "14              Channel Islands    Europe             0         0   \n",
       "15                Faroe Islands    Europe             0         0   \n",
       "19                    Greenland  Americas             0         0   \n",
       "31       British Virgin Islands  Americas             0         0   \n",
       "37            US Virgin Islands  Americas             0         0   \n",
       "39                New Caledonia   Oceania             0         0   \n",
       "42                         Guam   Oceania             0         0   \n",
       "58    Sint Maarten (Dutch part)  Americas             0         0   \n",
       "61     Northern Mariana Islands   Oceania             0         0   \n",
       "65   Saint Martin (French part)  Americas             0         0   \n",
       "68     Turks and Caicos Islands  Americas             0         0   \n",
       "71             French Polynesia   Oceania             0         0   \n",
       "76                 Cook Islands   Oceania             0         0   \n",
       "77                     Anguilla  Americas             0         0   \n",
       "82                     CuraÃ§ao  Americas             0         0   \n",
       "85                   Montserrat  Americas             0         0   \n",
       "86               American Samoa   Oceania             0         0   \n",
       "104                        Cuba  Americas             0         0   \n",
       "196                    Zanzibar    Africa             0         0   \n",
       "204                       Syria      Asia             0         0   \n",
       "212                 North Korea      Asia             0         0   \n",
       "\n",
       "     WorldBank_Estimate  WorldBank_Year  UN_Estimate UN_Year  \n",
       "1                234316            2021       234317    2021  \n",
       "2                157755            2020       169260    2021  \n",
       "5                114090            2021       112653    2021  \n",
       "9                 87158            2019            0       0  \n",
       "10                86569            2021        85250    2021  \n",
       "14                75153            2007            0       0  \n",
       "15                69010            2021            0       0  \n",
       "19                54571            2020        58185    2021  \n",
       "31                    0               0        49444    2021  \n",
       "37                39552            2020            0       0  \n",
       "39                37160            2021        34994    2021  \n",
       "42                35905            2021            0       0  \n",
       "58                28988            2018        26199    2021  \n",
       "61                23707            2019            0       0  \n",
       "65                21921            2014            0       0  \n",
       "68                20909            2021        20909    2021  \n",
       "71                19915            2021        19915    2021  \n",
       "76                    0               0        19264    2021  \n",
       "77                    0               0        19216    2021  \n",
       "82                17718            2021        14183    2021  \n",
       "85                    0               0        16199    2021  \n",
       "86                15743            2021            0       0  \n",
       "104                9500            2020        11255    2021  \n",
       "196                   0               0         1211    2021  \n",
       "204                 533            2020          925    2021  \n",
       "212                   0               0          654    2021  "
      ]
     },
     "execution_count": 184,
     "metadata": {},
     "output_type": "execute_result"
    }
   ],
   "source": [
    "df.query(\"IMF_Year == 0\")\n"
   ]
  },
  {
   "attachments": {
    "image.png": {
     "image/png": "[encoded data removed]"
    }
   },
   "cell_type": "markdown",
   "id": "f5e3f021",
   "metadata": {},
   "source": [
    "![image.png](attachment:image.png)"
   ]
  },
  {
   "cell_type": "code",
   "execution_count": 199,
   "id": "860f66c6",
   "metadata": {},
   "outputs": [
    {
     "data": {
      "image/png": "[encoded data removed]",
      "text/plain": [
       "<Figure size 432x288 with 1 Axes>"
      ]
     },
     "metadata": {
      "needs_background": "light"
     },
     "output_type": "display_data"
    }
   ],
   "source": [
    "sns.boxplot(x=data[\"UN_Estimate\"])\n",
    "plt.show()"
   ]
  },
  {
   "cell_type": "code",
   "execution_count": null,
   "id": "fa29f8d0",
   "metadata": {},
   "outputs": [],
   "source": []
  },
  {
   "cell_type": "code",
   "execution_count": null,
   "id": "42b5034d",
   "metadata": {},
   "outputs": [],
   "source": []
  },
  {
   "cell_type": "markdown",
   "id": "d47b00f3",
   "metadata": {},
   "source": [
    "## Removing outliers"
   ]
  },
  {
   "cell_type": "code",
   "execution_count": 204,
   "id": "93e41a7b-f016-4766-99fd-5728a57dd45d",
   "metadata": {},
   "outputs": [
    {
     "data": {
      "text/plain": [
       "2039.0"
      ]
     },
     "execution_count": 204,
     "metadata": {},
     "output_type": "execute_result"
    }
   ],
   "source": [
    "df[\"UN_Estimate\"].quantile(0.25)"
   ]
  },
  {
   "cell_type": "code",
   "execution_count": 206,
   "id": "81b2a144",
   "metadata": {},
   "outputs": [
    {
     "data": {
      "text/plain": [
       "2039.0"
      ]
     },
     "execution_count": 206,
     "metadata": {},
     "output_type": "execute_result"
    }
   ],
   "source": [
    "lower_q = df[\"UN_Estimate\"].quantile(0.25)\n",
    "lower_q\n"
   ]
  },
  {
   "cell_type": "code",
   "execution_count": 212,
   "id": "4d2d9908",
   "metadata": {},
   "outputs": [
    {
     "data": {
      "text/plain": [
       "20740.0"
      ]
     },
     "execution_count": 212,
     "metadata": {},
     "output_type": "execute_result"
    }
   ],
   "source": [
    "higher_q = df[\"UN_Estimate\"].quantile(0.75)\n",
    "higher_q"
   ]
  },
  {
   "cell_type": "code",
   "execution_count": 220,
   "id": "c2ebac70-b465-4c3e-be3b-535ec24493c3",
   "metadata": {},
   "outputs": [
    {
     "data": {
      "text/plain": [
       "18701.0"
      ]
     },
     "execution_count": 220,
     "metadata": {},
     "output_type": "execute_result"
    }
   ],
   "source": [
    "iqr = higher_q - lower_q\n",
    "iqr\n",
    "\n",
    "#iqr = inter quantile range"
   ]
  },
  {
   "cell_type": "code",
   "execution_count": 222,
   "id": "e330faef-e638-4534-9b3c-2fd6c9cef0c6",
   "metadata": {},
   "outputs": [
    {
     "data": {
      "text/plain": [
       "-26012.5"
      ]
     },
     "execution_count": 222,
     "metadata": {},
     "output_type": "execute_result"
    }
   ],
   "source": [
    "lower_q - 1.5 * iqr\n",
    "## 2039 - 1.5 * 18700 "
   ]
  },
  {
   "cell_type": "code",
   "execution_count": 224,
   "id": "fb97dae9-39c2-49a4-b274-5536656930bc",
   "metadata": {},
   "outputs": [
    {
     "data": {
      "text/plain": [
       "48791.5"
      ]
     },
     "execution_count": 224,
     "metadata": {},
     "output_type": "execute_result"
    }
   ],
   "source": [
    "higher_q + 1.5* iqr\n",
    "# 20740 + 1.5 * 18700 "
   ]
  },
  {
   "cell_type": "code",
   "execution_count": 226,
   "id": "76e66b47",
   "metadata": {},
   "outputs": [],
   "source": [
    "df_filtered = df[(df[\"UN_Estimate\"] > lower_q - 1.5 * iqr ) & (df[\"UN_Estimate\"] < higher_q + 1.5* iqr )]\n",
    "\n"
   ]
  },
  {
   "cell_type": "code",
   "execution_count": 254,
   "id": "69e39033",
   "metadata": {},
   "outputs": [
    {
     "data": {
      "text/html": [
       "<div>\n",
       "<style scoped>\n",
       "    .dataframe tbody tr th:only-of-type {\n",
       "        vertical-align: middle;\n",
       "    }\n",
       "\n",
       "    .dataframe tbody tr th {\n",
       "        vertical-align: top;\n",
       "    }\n",
       "\n",
       "    .dataframe thead th {\n",
       "        text-align: right;\n",
       "    }\n",
       "</style>\n",
       "<table border=\"1\" class=\"dataframe\">\n",
       "  <thead>\n",
       "    <tr style=\"text-align: right;\">\n",
       "      <th></th>\n",
       "      <th>Country/Territory</th>\n",
       "      <th>UN_Region</th>\n",
       "      <th>IMF_Estimate</th>\n",
       "      <th>IMF_Year</th>\n",
       "      <th>WorldBank_Estimate</th>\n",
       "      <th>WorldBank_Year</th>\n",
       "      <th>UN_Estimate</th>\n",
       "      <th>UN_Year</th>\n",
       "    </tr>\n",
       "  </thead>\n",
       "  <tbody>\n",
       "    <tr>\n",
       "      <th>9</th>\n",
       "      <td>Isle of Man</td>\n",
       "      <td>Europe</td>\n",
       "      <td>0</td>\n",
       "      <td>0</td>\n",
       "      <td>87158</td>\n",
       "      <td>2019</td>\n",
       "      <td>0</td>\n",
       "      <td>0</td>\n",
       "    </tr>\n",
       "    <tr>\n",
       "      <th>14</th>\n",
       "      <td>Channel Islands</td>\n",
       "      <td>Europe</td>\n",
       "      <td>0</td>\n",
       "      <td>0</td>\n",
       "      <td>75153</td>\n",
       "      <td>2007</td>\n",
       "      <td>0</td>\n",
       "      <td>0</td>\n",
       "    </tr>\n",
       "    <tr>\n",
       "      <th>15</th>\n",
       "      <td>Faroe Islands</td>\n",
       "      <td>Europe</td>\n",
       "      <td>0</td>\n",
       "      <td>0</td>\n",
       "      <td>69010</td>\n",
       "      <td>2021</td>\n",
       "      <td>0</td>\n",
       "      <td>0</td>\n",
       "    </tr>\n",
       "    <tr>\n",
       "      <th>29</th>\n",
       "      <td>Macau</td>\n",
       "      <td>Asia</td>\n",
       "      <td>50571</td>\n",
       "      <td>2023</td>\n",
       "      <td>43874</td>\n",
       "      <td>2021</td>\n",
       "      <td>43555</td>\n",
       "      <td>2021</td>\n",
       "    </tr>\n",
       "    <tr>\n",
       "      <th>30</th>\n",
       "      <td>United Arab Emirates</td>\n",
       "      <td>Asia</td>\n",
       "      <td>49451</td>\n",
       "      <td>2023</td>\n",
       "      <td>44316</td>\n",
       "      <td>2021</td>\n",
       "      <td>43295</td>\n",
       "      <td>2021</td>\n",
       "    </tr>\n",
       "  </tbody>\n",
       "</table>\n",
       "</div>"
      ],
      "text/plain": [
       "       Country/Territory UN_Region  IMF_Estimate  IMF_Year  \\\n",
       "9            Isle of Man    Europe             0         0   \n",
       "14       Channel Islands    Europe             0         0   \n",
       "15         Faroe Islands    Europe             0         0   \n",
       "29                 Macau      Asia         50571      2023   \n",
       "30  United Arab Emirates      Asia         49451      2023   \n",
       "\n",
       "    WorldBank_Estimate  WorldBank_Year  UN_Estimate UN_Year  \n",
       "9                87158            2019            0       0  \n",
       "14               75153            2007            0       0  \n",
       "15               69010            2021            0       0  \n",
       "29               43874            2021        43555    2021  \n",
       "30               44316            2021        43295    2021  "
      ]
     },
     "execution_count": 254,
     "metadata": {},
     "output_type": "execute_result"
    }
   ],
   "source": [
    "df_filtered.head()"
   ]
  },
  {
   "cell_type": "code",
   "execution_count": 256,
   "id": "182221f6",
   "metadata": {},
   "outputs": [
    {
     "data": {
      "text/plain": [
       "(196, 8)"
      ]
     },
     "execution_count": 256,
     "metadata": {},
     "output_type": "execute_result"
    }
   ],
   "source": [
    "df_filtered.shape"
   ]
  },
  {
   "cell_type": "code",
   "execution_count": 258,
   "id": "a798652f-49c3-41d3-92f9-344fc53c2f1a",
   "metadata": {},
   "outputs": [
    {
     "data": {
      "text/plain": [
       "(223, 8)"
      ]
     },
     "execution_count": 258,
     "metadata": {},
     "output_type": "execute_result"
    }
   ],
   "source": [
    "df.shape"
   ]
  },
  {
   "cell_type": "code",
   "execution_count": 260,
   "id": "e1c70288",
   "metadata": {},
   "outputs": [
    {
     "data": {
      "text/plain": [
       "9415.168367346938"
      ]
     },
     "execution_count": 260,
     "metadata": {},
     "output_type": "execute_result"
    }
   ],
   "source": [
    "df_filtered.UN_Estimate.mean()"
   ]
  },
  {
   "cell_type": "code",
   "execution_count": null,
   "id": "2d2f59e1",
   "metadata": {},
   "outputs": [],
   "source": []
  },
  {
   "cell_type": "code",
   "execution_count": 270,
   "id": "ce2b5784",
   "metadata": {},
   "outputs": [
    {
     "data": {
      "image/png": "[encoded data removed]",
      "text/plain": [
       "<Figure size 432x288 with 1 Axes>"
      ]
     },
     "metadata": {
      "needs_background": "light"
     },
     "output_type": "display_data"
    }
   ],
   "source": [
    "sns.boxplot(x=df_filtered[\"UN_Estimate\"])\n",
    "plt.show()"
   ]
  },
  {
   "cell_type": "code",
   "execution_count": null,
   "id": "28ab482e",
   "metadata": {},
   "outputs": [],
   "source": []
  },
  {
   "cell_type": "code",
   "execution_count": 264,
   "id": "1dbffbdf",
   "metadata": {},
   "outputs": [
    {
     "data": {
      "text/plain": [
       "11096.647959183674"
      ]
     },
     "execution_count": 264,
     "metadata": {},
     "output_type": "execute_result"
    }
   ],
   "source": [
    "#how can we create a table with following \n",
    "df_filtered.WorldBank_Estimate.mean()"
   ]
  },
  {
   "cell_type": "code",
   "execution_count": 266,
   "id": "d71dcd64",
   "metadata": {},
   "outputs": [
    {
     "data": {
      "text/plain": [
       "9415.168367346938"
      ]
     },
     "execution_count": 266,
     "metadata": {},
     "output_type": "execute_result"
    }
   ],
   "source": [
    "df_filtered.UN_Estimate.mean()\n"
   ]
  },
  {
   "cell_type": "code",
   "execution_count": 268,
   "id": "6fee31d1",
   "metadata": {},
   "outputs": [
    {
     "data": {
      "text/plain": [
       "9784.326530612245"
      ]
     },
     "execution_count": 268,
     "metadata": {},
     "output_type": "execute_result"
    }
   ],
   "source": [
    "df_filtered.IMF_Estimate.mean()"
   ]
  },
  {
   "cell_type": "code",
   "execution_count": null,
   "id": "7bba0b6d-8e62-4471-a768-de41717a3597",
   "metadata": {},
   "outputs": [],
   "source": []
  }
 ],
 "metadata": {
  "kernelspec": {
   "display_name": "anaconda-panel-2023.05-py310",
   "language": "python",
   "name": "conda-env-anaconda-panel-2023.05-py310-py"
  },
  "language_info": {
   "codemirror_mode": {
    "name": "ipython",
    "version": 3
   },
   "file_extension": ".py",
   "mimetype": "text/x-python",
   "name": "python",
   "nbconvert_exporter": "python",
   "pygments_lexer": "ipython3",
   "version": "3.11.5"
  }
 },
 "nbformat": 4,
 "nbformat_minor": 5
}
